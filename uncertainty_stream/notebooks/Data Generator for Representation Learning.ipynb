{
 "cells": [
  {
   "cell_type": "code",
   "execution_count": 1,
   "metadata": {},
   "outputs": [],
   "source": [
    "import sys\n",
    "sys.path.extend(['..'])\n",
    "\n",
    "import torch\n",
    "import torch.nn as nn\n",
    "from importlib import import_module\n",
    "from utils.training_utils import ModelCheckpoint\n",
    "from config import *"
   ]
  },
  {
   "cell_type": "code",
   "execution_count": 2,
   "metadata": {},
   "outputs": [],
   "source": [
    "config = Config"
   ]
  },
  {
   "cell_type": "code",
   "execution_count": 3,
   "metadata": {},
   "outputs": [],
   "source": [
    "# Load model trained on raw data to extract weight for embeddings\n",
    "model_type = import_module('models.' + config.architecture)\n",
    "create_model = getattr(model_type, 'create_model')\n",
    "model_raw = create_model(config)\n",
    "model_checkpoint = ModelCheckpoint(weight_dir='../weights/raw/')\n",
    "model_raw, _, _, _ = model_checkpoint.load(model_raw, load_best=True)"
   ]
  },
  {
   "cell_type": "code",
   "execution_count": 4,
   "metadata": {},
   "outputs": [],
   "source": [
    "# Initialize representation model\n",
    "model_type = import_module('models.' + config.rs_architecture)\n",
    "create_model = getattr(model_type, 'create_model')\n",
    "model = create_model(config)"
   ]
  },
  {
   "cell_type": "code",
   "execution_count": 7,
   "metadata": {},
   "outputs": [
    {
     "data": {
      "text/plain": [
       "<All keys matched successfully>"
      ]
     },
     "execution_count": 7,
     "metadata": {},
     "output_type": "execute_result"
    }
   ],
   "source": [
    "# Use the weights for Embedder module from model trained on raw data\n",
    "model_raw_dict = model_raw.state_dict()\n",
    "model_dict = model.state_dict()\n",
    "\n",
    "model_raw_dict = {k: v for k, v in model_raw_dict.items() if k in model_dict}\n",
    "model_dict.update(model_raw_dict)\n",
    "model.load_state_dict(model_dict)"
   ]
  },
  {
   "cell_type": "code",
   "execution_count": 28,
   "metadata": {},
   "outputs": [
    {
     "name": "stdout",
     "output_type": "stream",
     "text": [
      "torch.Size([3050, 50])\n",
      "torch.Size([8, 4])\n",
      "torch.Size([4, 2])\n",
      "torch.Size([11, 5])\n",
      "torch.Size([4, 2])\n",
      "torch.Size([31, 16])\n",
      "torch.Size([320, 107])\n",
      "torch.Size([320, 80])\n",
      "torch.Size([320])\n",
      "torch.Size([320])\n",
      "torch.Size([320, 107])\n",
      "torch.Size([320, 80])\n",
      "torch.Size([320])\n",
      "torch.Size([320])\n",
      "torch.Size([160, 80])\n",
      "torch.Size([160, 40])\n",
      "torch.Size([160])\n",
      "torch.Size([160])\n",
      "torch.Size([160, 80])\n",
      "torch.Size([160, 40])\n",
      "torch.Size([160])\n",
      "torch.Size([160])\n",
      "torch.Size([320, 40])\n",
      "torch.Size([320, 80])\n",
      "torch.Size([320])\n",
      "torch.Size([320])\n",
      "torch.Size([320, 40])\n",
      "torch.Size([320, 80])\n",
      "torch.Size([320])\n",
      "torch.Size([320])\n",
      "torch.Size([428, 80])\n",
      "torch.Size([428, 107])\n",
      "torch.Size([428])\n",
      "torch.Size([428])\n",
      "torch.Size([428, 80])\n",
      "torch.Size([428, 107])\n",
      "torch.Size([428])\n",
      "torch.Size([428])\n"
     ]
    }
   ],
   "source": [
    "i = 0\n",
    "for param in model.parameters():\n",
    "    print(param)"
   ]
  },
  {
   "cell_type": "code",
   "execution_count": 10,
   "metadata": {},
   "outputs": [
    {
     "ename": "TypeError",
     "evalue": "'method' object is not iterable",
     "output_type": "error",
     "traceback": [
      "\u001b[0;31m---------------------------------------------------------------------------\u001b[0m",
      "\u001b[0;31mTypeError\u001b[0m                                 Traceback (most recent call last)",
      "\u001b[0;32m<ipython-input-10-ebb99660024a>\u001b[0m in \u001b[0;36m<module>\u001b[0;34m\u001b[0m\n\u001b[0;32m----> 1\u001b[0;31m \u001b[0;32mfor\u001b[0m \u001b[0mk\u001b[0m\u001b[0;34m,\u001b[0m \u001b[0mv\u001b[0m \u001b[0;32min\u001b[0m \u001b[0mmodel\u001b[0m\u001b[0;34m.\u001b[0m\u001b[0mparameters\u001b[0m\u001b[0;34m:\u001b[0m\u001b[0;34m\u001b[0m\u001b[0;34m\u001b[0m\u001b[0m\n\u001b[0m\u001b[1;32m      2\u001b[0m     \u001b[0mprint\u001b[0m\u001b[0;34m(\u001b[0m\u001b[0mk\u001b[0m\u001b[0;34m)\u001b[0m\u001b[0;34m\u001b[0m\u001b[0;34m\u001b[0m\u001b[0m\n",
      "\u001b[0;31mTypeError\u001b[0m: 'method' object is not iterable"
     ]
    }
   ],
   "source": [
    "for k, v in model.parameters:\n",
    "    print(k)"
   ]
  },
  {
   "cell_type": "code",
   "execution_count": 13,
   "metadata": {},
   "outputs": [],
   "source": [
    "from data_loader.data_generator_raw import DataLoader"
   ]
  },
  {
   "cell_type": "code",
   "execution_count": 17,
   "metadata": {},
   "outputs": [],
   "source": [
    "config.data_file = '../../accuracy_stream/data/data.pickle'"
   ]
  },
  {
   "cell_type": "code",
   "execution_count": 18,
   "metadata": {},
   "outputs": [],
   "source": [
    "data_loader_raw = DataLoader(config)"
   ]
  },
  {
   "cell_type": "code",
   "execution_count": null,
   "metadata": {},
   "outputs": [],
   "source": [
    "data_loader_raw.create_val_loader()"
   ]
  }
 ],
 "metadata": {
  "kernelspec": {
   "display_name": "torch",
   "language": "python",
   "name": "torch"
  },
  "language_info": {
   "codemirror_mode": {
    "name": "ipython",
    "version": 3
   },
   "file_extension": ".py",
   "mimetype": "text/x-python",
   "name": "python",
   "nbconvert_exporter": "python",
   "pygments_lexer": "ipython3",
   "version": "3.7.7"
  }
 },
 "nbformat": 4,
 "nbformat_minor": 4
}
